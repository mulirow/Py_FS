{
  "cells": [
    {
      "cell_type": "code",
      "execution_count": null,
      "metadata": {
        "id": "6yDnpe2oaHoQ"
      },
      "outputs": [],
      "source": [
        "import math\n",
        "import numpy as np\n",
        "import pandas as pd\n",
        "import ast\n",
        "import re\n",
        "import matplotlib.pyplot as plt\n",
        "\n",
        "import plotly.express as px\n",
        "import plotly.graph_objects as go\n",
        "from plotly.subplots import make_subplots"
      ]
    },
    {
      "cell_type": "code",
      "execution_count": null,
      "metadata": {
        "id": "3qPT98nGnPD9"
      },
      "outputs": [],
      "source": [
        "def count_ones(binary_array):\n",
        "    count = 0\n",
        "    for bit in binary_array:\n",
        "        if bit == 1:\n",
        "            count += 1\n",
        "    return count\n",
        "\n",
        "def string_to_array(input_string):\n",
        "    # Split the string by the delimiter (assuming comma separated values)\n",
        "    array_strings = input_string.strip('[]').split(',')\n",
        "\n",
        "    # Convert each string element into an integer\n",
        "    array = [float(x) for x in array_strings]\n",
        "\n",
        "    return array\n",
        "\n",
        "def get_num_features(string_individual):\n",
        "    ind = string_to_array(string_individual)\n",
        "    num_features = count_ones(ind)\n",
        "    return num_features"
      ]
    },
    {
      "cell_type": "code",
      "execution_count": null,
      "metadata": {
        "id": "bVnEae_sWBz_"
      },
      "outputs": [],
      "source": [
        "def plot_multiple_points(arrays):\n",
        "    # Plots points from each array in the input array, with those points being\n",
        "    # the y-axis and its indexes the x-axis\n",
        "    # Args\n",
        "    #     array -> Array of arrays with numeric values. Size of each inside\n",
        "    #              array can vary\n",
        "    # Returns\n",
        "    #     fig -> Graph with information\n",
        "    fig = px.scatter(title='Points with Varying Colors')\n",
        "\n",
        "    for i, array in enumerate(arrays):\n",
        "        indices = np.arange(len(array))\n",
        "\n",
        "        df = pd.DataFrame({'Index': indices, 'Value': array})\n",
        "        fig.add_trace(px.scatter(df, x='Index', y='Value', color='Index',\n",
        "                                 color_continuous_scale=px.colors.sequential.Plotly3).data[0])\n",
        "\n",
        "        fig.update_layout(title='Curvas de Evolução do Fitness Médio Para Cada Execução',\n",
        "                      xaxis_title='Épocas',\n",
        "                      yaxis_title='Fitness Médio')\n",
        "\n",
        "    return fig\n",
        "\n",
        "def plot_boxplot(csv_paths, feature_column='feature', title='Box Plot of Features', xlabel='CSV Files', ylabel='Feature Values'):\n",
        "    # Load the CSV files and extract feature columns\n",
        "    data = {}\n",
        "    for i, csv_path in enumerate(csv_paths):\n",
        "        csv_data = pd.read_csv(csv_path)\n",
        "        data[f'CSV{i}'] = csv_data[feature_column]\n",
        "\n",
        "    # Create DataFrame\n",
        "    combined_data = pd.DataFrame(data)\n",
        "\n",
        "    # Create box plot\n",
        "    combined_data.boxplot()\n",
        "\n",
        "    # Add title and labels\n",
        "    plt.title(title)\n",
        "    plt.xlabel(xlabel)\n",
        "    plt.ylabel(ylabel)\n",
        "\n",
        "    # Show the plot\n",
        "    plt.show()\n",
        "\n",
        "def process_and_plot_boxplot(*dfs):\n",
        "    # Define your function\n",
        "    def get_num_features(string_individual):\n",
        "        ind = string_to_array(string_individual)\n",
        "        num_features = count_ones(ind)\n",
        "        return num_features\n",
        "\n",
        "    # Apply the function to each DataFrame\n",
        "    for df in dfs:\n",
        "        df['num_features_best'] = df['best_agent'].apply(get_num_features)\n",
        "\n",
        "    # Concatenate DataFrames\n",
        "    concatenated_df = pd.concat(dfs, keys=[f'df{i}' for i in range(1, len(dfs) + 1)])\n",
        "\n",
        "    # Plotting\n",
        "    plt.figure(figsize=(10, 6))\n",
        "\n",
        "    # Extract data for plotting\n",
        "    data = [concatenated_df.loc[key, 'num_features_best'].values for key in concatenated_df.index.levels[0]]\n",
        "\n",
        "    # Creating box plot\n",
        "    plt.boxplot(data, labels=concatenated_df.index.levels[0])\n",
        "\n",
        "    plt.xlabel('Algorithms')\n",
        "    plt.ylabel('N')\n",
        "    plt.title('Number of Features')\n",
        "    plt.grid(True)\n",
        "    plt.show()"
      ]
    },
    {
      "cell_type": "code",
      "execution_count": null,
      "metadata": {
        "colab": {
          "base_uri": "https://localhost:8080/",
          "height": 1000
        },
        "id": "p0EWUvEBZ2Sr",
        "outputId": "005fab0a-6015-4339-f8ce-b580ae01e6c8"
      },
      "outputs": [],
      "source": [
        "csv_path = 'ga_horse.csv'\n",
        "df = pd.read_csv(csv_path)\n",
        "df"
      ]
    },
    {
      "cell_type": "code",
      "execution_count": null,
      "metadata": {
        "cellView": "form",
        "colab": {
          "base_uri": "https://localhost:8080/",
          "height": 391
        },
        "id": "rz3vRuK3ctBA",
        "outputId": "d31d89e3-e8e4-41ea-a383-6263555ab023"
      },
      "outputs": [],
      "source": [
        "# @title best_accuracy\n",
        "df['best_accuracy'].plot(kind='line', figsize=(8, 4), title='best_accuracy')\n",
        "plt.gca().spines[['top', 'right']].set_visible(False)"
      ]
    },
    {
      "cell_type": "code",
      "execution_count": null,
      "metadata": {
        "cellView": "form",
        "colab": {
          "base_uri": "https://localhost:8080/",
          "height": 391
        },
        "id": "kj9uY75dcnUC",
        "outputId": "17f08c9b-2c38-4aaa-d92c-e579f19b796a"
      },
      "outputs": [],
      "source": [
        "# @title best_fitness\n",
        "\n",
        "from matplotlib import pyplot as plt\n",
        "df['best_fitness'].plot(kind='line', figsize=(8, 4), title='best_fitness')\n",
        "plt.gca().spines[['top', 'right']].set_visible(False)"
      ]
    },
    {
      "cell_type": "code",
      "execution_count": null,
      "metadata": {
        "colab": {
          "base_uri": "https://localhost:8080/",
          "height": 472
        },
        "id": "Gm1u_hMoaZDE",
        "outputId": "4db206af-b14e-470c-9cb5-d6cb95884436"
      },
      "outputs": [],
      "source": [
        "# @title Box Plots Execution Time\n",
        "dataset = 'horse'\n",
        "csv_paths = [f'ga_{dataset}.csv', f'pso_{dataset}.csv', f'woa_{dataset}.csv', f'rda_{dataset}.csv']\n",
        "plot_boxplot(csv_paths, 'execution_time', 'Execution Time', 'Algorithms', 'Time (s)')"
      ]
    },
    {
      "cell_type": "code",
      "execution_count": null,
      "metadata": {
        "cellView": "form",
        "colab": {
          "base_uri": "https://localhost:8080/",
          "height": 542
        },
        "id": "IW62Ap5iqE7X",
        "outputId": "9608b2f4-58e2-47e6-fd1c-289081def85b"
      },
      "outputs": [],
      "source": [
        "# @title CUZIL ZIL ZIL\n",
        "avg_fit_curves = []\n",
        "for str_avg_fit_curve in df['convergence_curve']:\n",
        "  avg_fit_curve = string_to_array(str_avg_fit_curve)\n",
        "  avg_fit_curves.append(avg_fit_curve)\n",
        "\n",
        "avg_fit_curves = plot_multiple_points(avg_fit_curves)\n",
        "avg_fit_curves.show()"
      ]
    },
    {
      "cell_type": "code",
      "execution_count": null,
      "metadata": {
        "colab": {
          "base_uri": "https://localhost:8080/",
          "height": 564
        },
        "id": "XUH5mQWkxBR1",
        "outputId": "d1efbff4-bf62-4e30-8f8d-394d0d693d68"
      },
      "outputs": [],
      "source": [
        "process_and_plot_boxplot(df, df)"
      ]
    }
  ],
  "metadata": {
    "colab": {
      "provenance": []
    },
    "kernelspec": {
      "display_name": "Python 3",
      "name": "python3"
    },
    "language_info": {
      "codemirror_mode": {
        "name": "ipython",
        "version": 3
      },
      "file_extension": ".py",
      "mimetype": "text/x-python",
      "name": "python",
      "nbconvert_exporter": "python",
      "pygments_lexer": "ipython3",
      "version": "3.12.1"
    }
  },
  "nbformat": 4,
  "nbformat_minor": 0
}
